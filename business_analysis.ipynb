{
 "cells": [
  {
   "cell_type": "code",
   "execution_count": null,
   "id": "4c40cd8d",
   "metadata": {},
   "outputs": [],
   "source": [
    "import pandas as pd\n",
    "import re\n",
    "\n",
    "# Load data\n",
    "df = pd.read_csv(\"../data/business_data.csv\")\n",
    "df.head()\n",
    "\n",
    "# Clean descriptions\n",
    "df['Description'] = df['Description'].str.lower().str.strip()\n",
    "\n",
    "# Simple classification using Regex\n",
    "def classify_industry(desc):\n",
    "    if re.search(r'grocery|supermarket', desc):\n",
    "        return \"Food & Retail\"\n",
    "    elif re.search(r'software|tech|development', desc):\n",
    "        return \"IT Services\"\n",
    "    elif re.search(r'pet|grooming|animal', desc):\n",
    "        return \"Pet Services\"\n",
    "    else:\n",
    "        return \"Other\"\n",
    "\n",
    "df['Industry'] = df['Description'].apply(classify_industry)\n",
    "\n",
    "# Save output\n",
    "df.to_csv(\"../output/cleaned_business_data.csv\", index=False)\n",
    "df\n"
   ]
  }
 ],
 "metadata": {
  "kernelspec": {
   "display_name": "Python 3",
   "language": "python",
   "name": "python3"
  },
  "language_info": {
   "name": "python",
   "version": "3.13.3"
  }
 },
 "nbformat": 4,
 "nbformat_minor": 5
}
